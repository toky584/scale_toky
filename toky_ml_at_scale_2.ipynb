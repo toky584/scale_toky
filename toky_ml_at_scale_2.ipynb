{
 "cells": [
  {
   "cell_type": "code",
   "execution_count": 2,
   "metadata": {},
   "outputs": [],
   "source": [
    "#Practical 4\n",
    "#importing numpy and pandas.\n",
    "import numpy as np\n",
    "import pandas as pd"
   ]
  },
  {
   "cell_type": "code",
   "execution_count": 3,
   "metadata": {},
   "outputs": [],
   "source": [
    "#Define a function to contruct the sparse matrix.\n",
    "def sparse_split(filer):\n",
    "    import csv\n",
    "    with open(filer, 'r') as file:\n",
    "        reader = csv.reader(file) #reading the file\n",
    "        \n",
    "        #mapping the users and movies into indexes\n",
    "        map_user_to_idx = {}\n",
    "        map_movie_to_idx = {}\n",
    "        \n",
    "        #relation between the indexes, the users and the movies.\n",
    "        map_idx_to_user = []\n",
    "        map_idx_to_movie = []\n",
    "        \n",
    "        #listes respectively for each type of data.\n",
    "        data_by_user_train = []\n",
    "        data_by_user_test = []\n",
    "        data_by_movie_train = []\n",
    "        data_by_movie_test = []\n",
    "        data_by_user = []\n",
    "        data_by_movie = []\n",
    "        \n",
    "        #Taking each line of the data one by one.\n",
    "        for row in reader:\n",
    "            user = row[0] # taking the user\n",
    "            movie = row[1] #taking the movie\n",
    "            rating = row[2] #taking the rating\n",
    "            \n",
    "            if user =='userId': #Do not consider the first line.\n",
    "                continue\n",
    "              \n",
    "            if user not in map_user_to_idx: #creating the list for the new user.\n",
    "                map_user_to_idx[user] = len(map_user_to_idx)\n",
    "                map_idx_to_user.append(user)\n",
    "                data_by_user_train.append([])\n",
    "                data_by_user_test.append([])\n",
    "                data_by_user.append([])\n",
    "                \n",
    "                \n",
    "            if movie not in map_movie_to_idx: #creating the list for the new movie\n",
    "                map_movie_to_idx[movie]=len(map_movie_to_idx)\n",
    "                map_idx_to_movie.append(movie)\n",
    "                data_by_movie_train.append([])\n",
    "                data_by_movie_test.append([])\n",
    "                data_by_movie.append([])\n",
    "            \n",
    "            #completing the main data.\n",
    "            data_by_user[map_user_to_idx[user]].append((map_movie_to_idx[movie],float(rating)))\n",
    "            data_by_movie[map_movie_to_idx[movie]].append((map_user_to_idx[user],float(rating)))            \n",
    "            \n",
    "            # flip a coin\n",
    "            flip = np.random.rand()\n",
    "            if flip < 0.05: #for the test\n",
    "                data_by_user_test[map_user_to_idx[user]].append((map_movie_to_idx[movie],float(rating)))\n",
    "                data_by_movie_test[map_movie_to_idx[movie]].append((map_user_to_idx[user],float(rating)))\n",
    "            else: #for the train\n",
    "                data_by_user_train[map_user_to_idx[user]].append((map_movie_to_idx[movie],float(rating)))\n",
    "                data_by_movie_train[map_movie_to_idx[movie]].append((map_user_to_idx[user],float(rating)))\n",
    "    return data_by_user, data_by_movie, data_by_user_train, data_by_movie_train, data_by_user_test, data_by_movie_test, map_idx_to_user, map_idx_to_movie, map_user_to_idx, map_movie_to_idx"
   ]
  },
  {
   "cell_type": "code",
   "execution_count": 4,
   "metadata": {},
   "outputs": [],
   "source": [
    "#calling the function.\n",
    "path = 'ml-25m/ratings.csv'\n",
    "data_by_user, data_by_movie, data_by_user_train, data_by_movie_train, data_by_user_test, data_by_movie_test, map_idx_to_user, map_idx_to_movie, map_user_to_idx, map_movie_to_idx = sparse_split(path)"
   ]
  },
  {
   "cell_type": "code",
   "execution_count": 5,
   "metadata": {},
   "outputs": [],
   "source": [
    "#function for the update users vectors.\n",
    "def updtating_biases_vector_user(user_biases, movies_biases, user_vector, movie_vector, lamda, gamma, tau, data_by_user, data_by_movie):\n",
    "  #updating the biases.\n",
    "  for m in range (len(data_by_user)):\n",
    "    bias = 0\n",
    "    item_counter = 0\n",
    "    for (n,r) in data_by_user[m]:\n",
    "      bias+=lamda * (r-movies_biases[n]-user_biases[m]-np.dot(user_vector[m,:], movie_vector[n,:]))\n",
    "      item_counter+=1\n",
    "    bias=bias/(lamda*item_counter + gamma)\n",
    "    user_biases[m]=bias\n",
    "\n",
    "  #updating the embedding vectors.\n",
    "  for m in range(len(data_by_user)):\n",
    "    mat_vec = np.zeros((len(user_vector[m,:]),len(user_vector[m,:])))\n",
    "    vec= np.zeros(len(user_vector[m,:]))\n",
    "    for (n,r) in data_by_user[m]:\n",
    "      vn = movie_vector[n,:]\n",
    "      mat_vec += np.outer(vn,vn)\n",
    "      vec += lamda*(r - user_biases[m] - movies_biases[n])*vn\n",
    "    mat_vec = lamda*(mat_vec) + tau*np.eye(len(vn))\n",
    "    user_vector[m,:] = np.linalg.solve(mat_vec, vec)\n",
    "  return user_biases, user_vector"
   ]
  },
  {
   "cell_type": "code",
   "execution_count": 6,
   "metadata": {},
   "outputs": [],
   "source": [
    "def updtating_biases_vector_movie(user_biases, movies_biases, user_vector, movie_vector, lamda, gamma, tau, data_by_user, data_by_movie):\n",
    "  #updating the biases for the movies\n",
    "  for n in range (len(data_by_movie)):\n",
    "    bias = 0\n",
    "    item_counter = 0\n",
    "    for (m,r) in data_by_movie[n]:\n",
    "      bias+=lamda * (r-movies_biases[n]-user_biases[m]-np.dot(user_vector[m,:], movie_vector[n,:]))\n",
    "      item_counter+=1\n",
    "    bias=bias/(lamda*item_counter + gamma)\n",
    "    movies_biases[n]=bias\n",
    "\n",
    "\n",
    "  #updating the embedding vectors.\n",
    "  for n in range(len(data_by_movie)):\n",
    "    mat_vec = np.zeros((len(movie_vector[n,:]),len(movie_vector[n,:])))\n",
    "    vec = np.zeros(len(movie_vector[n,:]))\n",
    "    for (m,r) in data_by_movie[n]:\n",
    "      um = user_vector[m,:]\n",
    "      mat_vec += np.outer(um,um)\n",
    "      vec += lamda*(r - user_biases[m] - movies_biases[n])*um\n",
    "    mat_vec = lamda*(mat_vec) + tau*np.eye(len(um))\n",
    "    movie_vector[n,:] = np.linalg.solve(mat_vec, vec)\n",
    "  return movies_biases, movie_vector"
   ]
  },
  {
   "cell_type": "code",
   "execution_count": 7,
   "metadata": {},
   "outputs": [],
   "source": [
    "#function calculating the RMSE.\n",
    "def rmse_calculate(data, biases_u, biases_v, vector_u, vector_v,lamda, gamma):\n",
    "  rmse = 0\n",
    "  count = 0\n",
    "  for m in range (len(data)):\n",
    "    for (n,r) in data[m]:\n",
    "      rmse+=(r-biases_u[m]-biases_v[n]-np.dot(vector_u[m,:], vector_v[n,:]))**2\n",
    "      count += 1\n",
    "  rmse = rmse/count\n",
    "  return np.sqrt(rmse)"
   ]
  },
  {
   "cell_type": "code",
   "execution_count": 8,
   "metadata": {},
   "outputs": [],
   "source": [
    "#function calculating the loss function.\n",
    "def loss_calculate(data, biases_u, biases_v, vector_u, vector_v, lamda, gamma,tau):\n",
    "  loss = 0\n",
    "  for m in range (len(data)):\n",
    "    for (n,r) in data[m]:\n",
    "      um = vector_u[m,:]\n",
    "      vn = vector_v[n,:]\n",
    "      bm = biases_u[m]\n",
    "      bn = biases_v[n]\n",
    "      loss+=(-lamda/2) * ((r - np.dot(um, vn) -bm- bn)**2)-(gamma/2)*((bm)**2+(bn)**2) - (tau/2)*(np.dot(um,um)+np.dot(vn,vn))\n",
    "  return loss"
   ]
  },
  {
   "cell_type": "code",
   "execution_count": 99,
   "metadata": {},
   "outputs": [
    {
     "name": "stdout",
     "output_type": "stream",
     "text": [
      "epoch1,  Loss train: -6827136.308703327, Loss test: -358880.7855972932, rmse : 0.8986790413954218, rmse test: 0.9650690309648993\n",
      "epoch2,  Loss train: -4458735.586267513, Loss test: -234736.85244768584, rmse : 0.8826746012499593, rmse test: 0.9182306432563085\n",
      "epoch3,  Loss train: -1771026.7347826627, Loss test: -93234.7789837817, rmse : 0.7953633640084403, rmse test: 0.8410506747604649\n",
      "epoch4,  Loss train: -1628389.3652439367, Loss test: -85766.75587489798, rmse : 0.7495549671032398, rmse test: 0.799274449001116\n",
      "epoch5,  Loss train: -1507440.911805116, Loss test: -79425.16126975282, rmse : 0.7429014928190941, rmse test: 0.7943728625350175\n",
      "epoch6,  Loss train: -1438901.0456235292, Loss test: -75826.68431600013, rmse : 0.739226636061319, rmse test: 0.791826075093043\n",
      "epoch7,  Loss train: -1399360.4545694801, Loss test: -73751.84482852899, rmse : 0.7366680848414567, rmse test: 0.7902282745148941\n",
      "epoch8,  Loss train: -1377005.3164082645, Loss test: -72579.746463593, rmse : 0.7347831292816003, rmse test: 0.789166221244295\n",
      "epoch9,  Loss train: -1364307.5913485128, Loss test: -71914.60725003961, rmse : 0.7333777306170915, rmse test: 0.7884448374510551\n",
      "epoch10,  Loss train: -1357511.2396104352, Loss test: -71559.18094693146, rmse : 0.7323205060118395, rmse test: 0.7879438478191494\n",
      "epoch21,  Loss train: -1442493.6547516123, Loss test: -76050.69059571902, rmse : 0.728209998268826, rmse test: 0.7864613034446315\n"
     ]
    }
   ],
   "source": [
    "#Training\n",
    "M = len(data_by_user_train)\n",
    "N = len(data_by_movie_train)\n",
    "#initialize the biases\n",
    "user_biases = np.zeros(M)\n",
    "movies_biases = np.zeros(N)\n",
    "K=10 #embedding dimension\n",
    "p=1/np.sqrt(K) #ecart type of the distributions\n",
    "\n",
    "#initialization of the embedding vectors.\n",
    "user_vector = np.random.normal(0,p, (M,K))\n",
    "movie_vector = np.random.normal(0,p, (N,K))\n",
    "epoch = 30 #choice of the epoch\n",
    "lamda = 0.002#lower\n",
    "gamma = 0.055\n",
    "tau = 0.01#lower\n",
    "\n",
    "#list for the values of the losses and the RMSE.\n",
    "Loss_train_list = []\n",
    "Loss_test_list = []\n",
    "mse_train_list = []\n",
    "mse_test_list = []\n",
    "\n",
    "for i in range (epoch):\n",
    "\n",
    "  #calling all the functions and update with the train samples.\n",
    "  user_biases, user_vector  = updtating_biases_vector_user(user_biases, movies_biases, user_vector, movie_vector, lamda, gamma, tau, data_by_user_train, data_by_movie_train)\n",
    "  movies_biases, movie_vector = updtating_biases_vector_movie(user_biases, movies_biases, user_vector, movie_vector, lamda, gamma, tau, data_by_user_train, data_by_movie_train)\n",
    "  Loss_train = loss_calculate(data_by_user_train, user_biases, movies_biases, user_vector, movie_vector, lamda, gamma,tau)\n",
    "  rmse = rmse_calculate(data_by_user_train, user_biases, movies_biases, user_vector, movie_vector,lamda, gamma)\n",
    "\n",
    "  mse_train_list.append(rmse)\n",
    "  Loss_train_list.append(Loss_train)\n",
    "  \n",
    "  Loss_test = loss_calculate(data_by_user_test, user_biases, movies_biases, user_vector, movie_vector, lamda, gamma,tau)\n",
    "  rmse_test = rmse_calculate(data_by_user_test, user_biases, movies_biases, user_vector, movie_vector,lamda, gamma)\n",
    " \n",
    "  mse_test_list.append(rmse_test)\n",
    "  Loss_test_list.append(Loss_test)\n",
    "\n",
    "  if i<10 or (i>10 and i%10==0):\n",
    "    print(f'epoch{i+1},  Loss train: {Loss_train}, Loss test: {Loss_test}, rmse : {rmse}, rmse test: {rmse_test}')\n",
    "\n"
   ]
  },
  {
   "cell_type": "code",
   "execution_count": 100,
   "metadata": {},
   "outputs": [
    {
     "data": {
      "text/plain": [
       "<matplotlib.legend.Legend at 0x7f122b345a90>"
      ]
     },
     "execution_count": 100,
     "metadata": {},
     "output_type": "execute_result"
    },
    {
     "data": {
      "image/png": "[encoded data removed]",
      "text/plain": [
       "<Figure size 640x480 with 1 Axes>"
      ]
     },
     "metadata": {},
     "output_type": "display_data"
    }
   ],
   "source": [
    "#Plotting the RMSE for the train and the test.\n",
    "import matplotlib.pyplot as plt\n",
    "plt.plot(mse_train_list, label ='RMSE train for K=10')\n",
    "plt.plot(mse_test_list, label = 'RMSE test for K=10')\n",
    "plt.xlabel('Epoch')\n",
    "plt.ylabel('RMSE')\n",
    "plt.savefig('toky.pract4.pdf', format = 'pdf', bbox_inches = 'tight')\n",
    "plt.legend()"
   ]
  },
  {
   "cell_type": "code",
   "execution_count": 102,
   "metadata": {},
   "outputs": [
    {
     "name": "stdout",
     "output_type": "stream",
     "text": [
      "epoch1,  Loss train: -6969938.449492557, Loss test: -366515.68617903773, rmse : 0.8679591298716497, rmse test: 0.9798305233682739\n",
      "epoch2,  Loss train: -4745914.338437876, Loss test: -249839.5847889239, rmse : 0.862740768324213, rmse test: 0.9242062632180515\n",
      "epoch3,  Loss train: -1726834.4380550282, Loss test: -90953.06371238548, rmse : 0.7697718042330242, rmse test: 0.8443048115997771\n",
      "epoch4,  Loss train: -1659594.8355025854, Loss test: -87473.98996027793, rmse : 0.7028490361503658, rmse test: 0.7916610206583841\n",
      "epoch5,  Loss train: -1602113.8735914314, Loss test: -84480.36165042204, rmse : 0.6932744346170485, rmse test: 0.7880569489896286\n",
      "epoch6,  Loss train: -1597199.4204600516, Loss test: -84234.14906450662, rmse : 0.6879794813932052, rmse test: 0.7863182412889066\n",
      "epoch7,  Loss train: -1614694.992896727, Loss test: -85162.57749213061, rmse : 0.6845202514950419, rmse test: 0.7854221033802277\n",
      "epoch8,  Loss train: -1646019.6318714102, Loss test: -86816.09617320546, rmse : 0.6821197087178129, rmse test: 0.7850226185546203\n",
      "epoch9,  Loss train: -1684878.2114138915, Loss test: -88864.60746193935, rmse : 0.6803919688554083, rmse test: 0.7849071291931481\n",
      "epoch10,  Loss train: -1727250.6779852894, Loss test: -91097.14694689933, rmse : 0.6791140539104669, rmse test: 0.7849405982400065\n"
     ]
    }
   ],
   "source": [
    "#Training\n",
    "M = len(data_by_user_train)\n",
    "N = len(data_by_movie_train)\n",
    "#initialize the biases.\n",
    "user_biases = np.zeros(M)\n",
    "movies_biases = np.zeros(N)\n",
    "K=20 #embedding dimension.\n",
    "p=1/np.sqrt(K) #ecart type of the disstribution.\n",
    "\n",
    "#initialize the embedding vectors.\n",
    "user_vector = np.random.normal(0,p, (M,K))\n",
    "movie_vector = np.random.normal(0,p, (N,K))\n",
    "epoch = 20\n",
    "lamda = 0.002#lower\n",
    "gamma = 0.055\n",
    "tau = 0.01#lower\n",
    "\n",
    "#list for the values of the losses and the RMSE.\n",
    "Loss_train_list = []\n",
    "Loss_test_list = []\n",
    "mse_train_list = []\n",
    "mse_test_list = []\n",
    "\n",
    "for i in range (epoch):\n",
    "  #calling all the functions and update with the train samples.\n",
    "  user_biases, user_vector  = updtating_biases_vector_user(user_biases, movies_biases, user_vector, movie_vector, lamda, gamma, tau, data_by_user_train, data_by_movie_train)\n",
    "  movies_biases, movie_vector = updtating_biases_vector_movie(user_biases, movies_biases, user_vector, movie_vector, lamda, gamma, tau, data_by_user_train, data_by_movie_train)\n",
    "  Loss_train = loss_calculate(data_by_user_train, user_biases, movies_biases, user_vector, movie_vector, lamda, gamma,tau)\n",
    "  rmse = rmse_calculate(data_by_user_train, user_biases, movies_biases, user_vector, movie_vector,lamda, gamma)\n",
    "\n",
    "  mse_train_list.append(rmse)\n",
    "  Loss_train_list.append(Loss_train)\n",
    "  \n",
    "  Loss_test = loss_calculate(data_by_user_test, user_biases, movies_biases, user_vector, movie_vector, lamda, gamma,tau)\n",
    "  rmse_test = rmse_calculate(data_by_user_test, user_biases, movies_biases, user_vector, movie_vector,lamda, gamma)\n",
    " \n",
    "  mse_test_list.append(rmse_test)\n",
    "  Loss_test_list.append(Loss_test)\n",
    "\n",
    "  if i<10 or (i>10 and i%10==0):\n",
    "    print(f'epoch{i+1},  Loss train: {Loss_train}, Loss test: {Loss_test}, rmse : {rmse}, rmse test: {rmse_test}')"
   ]
  },
  {
   "cell_type": "code",
   "execution_count": 103,
   "metadata": {},
   "outputs": [
    {
     "data": {
      "text/plain": [
       "<matplotlib.legend.Legend at 0x7f122b363c90>"
      ]
     },
     "execution_count": 103,
     "metadata": {},
     "output_type": "execute_result"
    },
    {
     "data": {
      "image/png": "[encoded data removed]",
      "text/plain": [
       "<Figure size 640x480 with 1 Axes>"
      ]
     },
     "metadata": {},
     "output_type": "display_data"
    }
   ],
   "source": [
    "#Plotting the RMSE for the train and the test for k = 20.\n",
    "import matplotlib.pyplot as plt\n",
    "plt.plot(mse_train_list, label ='RMSE train for K=10')\n",
    "plt.plot(mse_test_list, label = 'RMSE test for K=10')\n",
    "plt.savefig('toky.k20.pdf', format = 'pdf', bbox_inches = 'tight')\n",
    "plt.xlabel('RMSE')\n",
    "plt.legend()"
   ]
  },
  {
   "cell_type": "code",
   "execution_count": 9,
   "metadata": {},
   "outputs": [
    {
     "name": "stdout",
     "output_type": "stream",
     "text": [
      "epoch1,  Loss train: -7020543.030169466, Loss test: -369424.3314696563, rmse : 0.8636508863634665, rmse test: 0.8639393457846927\n",
      "epoch2,  Loss train: -4699056.47568656, Loss test: -247041.27284374234, rmse : 0.8590318189234922, rmse test: 0.8589272414100855\n",
      "epoch3,  Loss train: -1885870.241004913, Loss test: -99230.8897579167, rmse : 0.7644572326762322, rmse test: 0.7640708929993154\n",
      "epoch4,  Loss train: -1790116.1547793197, Loss test: -94185.57371113205, rmse : 0.7046884642600003, rmse test: 0.7041542916190776\n",
      "epoch5,  Loss train: -1698858.0794161307, Loss test: -89377.12552257965, rmse : 0.6957273438348277, rmse test: 0.6951559444798037\n",
      "epoch6,  Loss train: -1661412.8275540767, Loss test: -87403.44603971107, rmse : 0.6905237293644139, rmse test: 0.6899128315527006\n",
      "epoch7,  Loss train: -1652307.3160128843, Loss test: -86922.81335168063, rmse : 0.68705742085477, rmse test: 0.6864278674342631\n",
      "epoch8,  Loss train: -1662286.6013819806, Loss test: -87447.15394425395, rmse : 0.6846293386256385, rmse test: 0.6839900782614469\n",
      "epoch9,  Loss train: -1683850.3522611437, Loss test: -88581.28138654502, rmse : 0.6828647039920911, rmse test: 0.6822178406389133\n",
      "epoch10,  Loss train: -1712063.3406452583, Loss test: -90065.33000175569, rmse : 0.6815404521230861, rmse test: 0.6808847316809946\n",
      "epoch21,  Loss train: -2080679.260676588, Loss test: -109461.59504485958, rmse : 0.6763902829044554, rmse test: 0.6755762828868579\n",
      "epoch31,  Loss train: -2377266.2405617363, Loss test: -125071.97207353165, rmse : 0.6753986323197102, rmse test: 0.6746178983150741\n",
      "epoch41,  Loss train: -2615094.2491726675, Loss test: -137589.04297851544, rmse : 0.6751218753134947, rmse test: 0.6744375375044322\n"
     ]
    }
   ],
   "source": [
    "#Final training\n",
    "M = len(data_by_user)\n",
    "N = len(data_by_movie)\n",
    "\n",
    "#initialize the biases.\n",
    "user_biases = np.zeros(M)\n",
    "movies_biases = np.zeros(N)\n",
    "K= 20 #embedding dimension\n",
    "p=1/np.sqrt(K) #ecart type of the distribuions\n",
    "\n",
    "#initialize the embedding vectors\n",
    "user_vector = np.random.normal(0,p, (M,K))\n",
    "movie_vector = np.random.normal(0,p, (N,K))\n",
    "epoch = 50 #number of epochs.\n",
    "lamda = 0.002#lamda must be lower\n",
    "gamma = 0.055\n",
    "tau = 0.01#lower\n",
    "\n",
    "#list for the values of the losses and the RMSE.\n",
    "Loss_train_list = []\n",
    "Loss_test_list = []\n",
    "mse_train_list = []\n",
    "mse_test_list = []\n",
    "\n",
    "for i in range (epoch):\n",
    "\n",
    "  #Calling the functions and update with all the data.\n",
    "  user_biases, user_vector  = updtating_biases_vector_user(user_biases, movies_biases, user_vector, movie_vector, lamda, gamma, tau, data_by_user, data_by_movie)\n",
    "  movies_biases, movie_vector = updtating_biases_vector_movie(user_biases, movies_biases, user_vector, movie_vector, lamda, gamma, tau, data_by_user, data_by_movie)\n",
    "  Loss_train = loss_calculate(data_by_user_train, user_biases, movies_biases, user_vector, movie_vector, lamda, gamma,tau)\n",
    "  rmse = rmse_calculate(data_by_user_train, user_biases, movies_biases, user_vector, movie_vector,lamda, gamma)\n",
    "\n",
    "  mse_train_list.append(rmse)\n",
    "  Loss_train_list.append(Loss_train)\n",
    "  \n",
    "  Loss_test = loss_calculate(data_by_user_test, user_biases, movies_biases, user_vector, movie_vector, lamda, gamma,tau)\n",
    "  rmse_test = rmse_calculate(data_by_user_test, user_biases, movies_biases, user_vector, movie_vector,lamda, gamma)\n",
    " \n",
    "  mse_test_list.append(rmse_test)\n",
    "  Loss_test_list.append(Loss_test)\n",
    "\n",
    "  if i<10 or (i>10 and i%10==0):\n",
    "    print(f'epoch{i+1},  Loss train: {Loss_train}, Loss test: {Loss_test}, rmse : {rmse}, rmse test: {rmse_test}')\n",
    "\n"
   ]
  },
  {
   "cell_type": "code",
   "execution_count": 11,
   "metadata": {},
   "outputs": [
    {
     "data": {
      "text/plain": [
       "<matplotlib.legend.Legend at 0x7f2325f6cc90>"
      ]
     },
     "execution_count": 11,
     "metadata": {},
     "output_type": "execute_result"
    },
    {
     "data": {
      "image/png": "[encoded data removed]",
      "text/plain": [
       "<Figure size 640x480 with 1 Axes>"
      ]
     },
     "metadata": {},
     "output_type": "display_data"
    }
   ],
   "source": [
    "#Plotting the RMSE for the test and the train.\n",
    "import matplotlib.pyplot as plt\n",
    "plt.plot(mse_train_list, label = 'MSE train for K = 20')\n",
    "plt.plot(mse_test_list, label = 'MSE test for K=20')\n",
    "plt.title('RMSE: update in all the data')\n",
    "plt.xlabel('Epoch')\n",
    "plt.ylabel('RMSE')\n",
    "plt.savefig('rmse.toky.all.pdf', format = 'pdf', bbox_inches = 'tight')\n",
    "plt.legend()"
   ]
  },
  {
   "cell_type": "code",
   "execution_count": 13,
   "metadata": {},
   "outputs": [],
   "source": [
    "#saving the vectors.\n",
    "np.save('toky_user_biases.npy', user_biases)"
   ]
  },
  {
   "cell_type": "code",
   "execution_count": 16,
   "metadata": {},
   "outputs": [],
   "source": [
    "np.save('toky_movies_biases.npy', movies_biases)\n",
    "np.save('toky_user_vector.npy', user_vector)\n",
    "np.save('toky_movie_vector.npy', movie_vector)"
   ]
  },
  {
   "cell_type": "code",
   "execution_count": 5,
   "metadata": {},
   "outputs": [],
   "source": [
    "movie_vector = np.load('toky_movie_vector.npy')\n",
    "movies_biases = np.load('toky_movies_biases.npy')"
   ]
  },
  {
   "cell_type": "code",
   "execution_count": 6,
   "metadata": {},
   "outputs": [
    {
     "data": {
      "text/html": [
       "<div>\n",
       "<style scoped>\n",
       "    .dataframe tbody tr th:only-of-type {\n",
       "        vertical-align: middle;\n",
       "    }\n",
       "\n",
       "    .dataframe tbody tr th {\n",
       "        vertical-align: top;\n",
       "    }\n",
       "\n",
       "    .dataframe thead th {\n",
       "        text-align: right;\n",
       "    }\n",
       "</style>\n",
       "<table border=\"1\" class=\"dataframe\">\n",
       "  <thead>\n",
       "    <tr style=\"text-align: right;\">\n",
       "      <th></th>\n",
       "      <th>movieId</th>\n",
       "      <th>title</th>\n",
       "      <th>genres</th>\n",
       "    </tr>\n",
       "  </thead>\n",
       "  <tbody>\n",
       "    <tr>\n",
       "      <th>0</th>\n",
       "      <td>1</td>\n",
       "      <td>Toy Story (1995)</td>\n",
       "      <td>Adventure|Animation|Children|Comedy|Fantasy</td>\n",
       "    </tr>\n",
       "    <tr>\n",
       "      <th>1</th>\n",
       "      <td>2</td>\n",
       "      <td>Jumanji (1995)</td>\n",
       "      <td>Adventure|Children|Fantasy</td>\n",
       "    </tr>\n",
       "    <tr>\n",
       "      <th>2</th>\n",
       "      <td>3</td>\n",
       "      <td>Grumpier Old Men (1995)</td>\n",
       "      <td>Comedy|Romance</td>\n",
       "    </tr>\n",
       "    <tr>\n",
       "      <th>3</th>\n",
       "      <td>4</td>\n",
       "      <td>Waiting to Exhale (1995)</td>\n",
       "      <td>Comedy|Drama|Romance</td>\n",
       "    </tr>\n",
       "    <tr>\n",
       "      <th>4</th>\n",
       "      <td>5</td>\n",
       "      <td>Father of the Bride Part II (1995)</td>\n",
       "      <td>Comedy</td>\n",
       "    </tr>\n",
       "  </tbody>\n",
       "</table>\n",
       "</div>"
      ],
      "text/plain": [
       "   movieId                               title  \\\n",
       "0        1                    Toy Story (1995)   \n",
       "1        2                      Jumanji (1995)   \n",
       "2        3             Grumpier Old Men (1995)   \n",
       "3        4            Waiting to Exhale (1995)   \n",
       "4        5  Father of the Bride Part II (1995)   \n",
       "\n",
       "                                        genres  \n",
       "0  Adventure|Animation|Children|Comedy|Fantasy  \n",
       "1                   Adventure|Children|Fantasy  \n",
       "2                               Comedy|Romance  \n",
       "3                         Comedy|Drama|Romance  \n",
       "4                                       Comedy  "
      ]
     },
     "execution_count": 6,
     "metadata": {},
     "output_type": "execute_result"
    }
   ],
   "source": [
    "#transfome the movies csv in a dataframe\n",
    "movies = pd.read_csv('movies.csv')\n",
    "movies.head()"
   ]
  },
  {
   "cell_type": "code",
   "execution_count": 11,
   "metadata": {},
   "outputs": [
    {
     "name": "stdout",
     "output_type": "stream",
     "text": [
      "the initial movie is: Lord of the Rings, The (1978) and the recommendations are\n",
      "Lord of the Rings: The Return of the King, The (2003)\n",
      "Lord of the Rings: The Two Towers, The (2002)\n",
      "Lord of the Rings: The Fellowship of the Ring, The (2001)\n",
      "Lord of the Rings, The (1978)\n",
      "Star Wars: Episode I - The Phantom Menace (1999)\n"
     ]
    }
   ],
   "source": [
    "#Making the recommendations.\n",
    "user = [(2189,2)] #dummy user\n",
    "K = 20 #embed\n",
    "lamda = 0.002#lamda must be lower\n",
    "gamma = 0.055\n",
    "tau = 0.01#lower\n",
    "sigma = 1/np.sqrt(K) #ecart type of the distributions.\n",
    "\n",
    "#initialize the vector of the dummy user\n",
    "vector_new_user = np.random.normal(0, sigma, (1,K))\n",
    "\n",
    "#initialize the rating predictions for all the movies.\n",
    "score_item = np.zeros(len(data_by_movie))\n",
    "\n",
    "#update the vector of the dummy user using the movies embedding and biases.\n",
    "mat = np.zeros((K,K))\n",
    "vec = np.zeros(K)\n",
    "for (n,r) in user:\n",
    "    vector_mov = movie_vector[n,:]\n",
    "    mat += np.outer(vector_mov, vector_mov)\n",
    "    vec += lamda*(r - movies_biases[n])*vector_mov\n",
    "mat = lamda*(mat) + tau*(np.eye(K))\n",
    "mat = np.linalg.inv(mat)\n",
    "vector_new_user = np.dot(mat, vec)\n",
    "\n",
    "#calculating the ratings for each movies.\n",
    "for n in range(len(data_by_movie)):\n",
    "    score_item[n] = np.dot(vector_new_user, movie_vector[n]) + movies_biases[n]\n",
    "    \n",
    "#ranking the movies by the highest ratings.\n",
    "top_movie = np.argsort(score_item, axis = 0)[-5:][::-1]\n",
    "\n",
    "#Taking the name of the movies liked by the dummy user\n",
    "id_initial = map_idx_to_movie[2189]\n",
    "name_movie_init = movies['title'][movies['movieId'] == int(id_initial)].values[0]\n",
    "print(f'the initial movie is: {name_movie_init} and the recommendations are') \n",
    "\n",
    "#Printing the top 5 recommendations.\n",
    "for i in range(5):\n",
    "    idx_movie = top_movie[i]\n",
    "    id_movie = map_idx_to_movie[idx_movie]\n",
    "    name_movie = movies['title'][movies['movieId'] == int(id_movie)].values[0]\n",
    "    print(name_movie) \n",
    "\n"
   ]
  }
 ],
 "metadata": {
  "kernelspec": {
   "display_name": "Python 3",
   "language": "python",
   "name": "python3"
  },
  "language_info": {
   "codemirror_mode": {
    "name": "ipython",
    "version": 3
   },
   "file_extension": ".py",
   "mimetype": "text/x-python",
   "name": "python",
   "nbconvert_exporter": "python",
   "pygments_lexer": "ipython3",
   "version": "3.11.2"
  }
 },
 "nbformat": 4,
 "nbformat_minor": 4
}
